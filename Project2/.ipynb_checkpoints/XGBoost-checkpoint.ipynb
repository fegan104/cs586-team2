{
 "cells": [
  {
   "cell_type": "markdown",
   "metadata": {},
   "source": [
    "# Import libraries and data"
   ]
  },
  {
   "cell_type": "code",
   "execution_count": 12,
   "metadata": {},
   "outputs": [],
   "source": [
    "from __future__ import division\n",
    "import matplotlib.pyplot as plt\n",
    "import pandas as pd\n",
    "import numpy as np\n",
    "import xgboost as xgb\n",
    "from xgboost.sklearn import XGBRegressor\n",
    "from sklearn.model_selection import GridSearchCV,cross_validate,train_test_split\n",
    "from sklearn.metrics import mean_absolute_error,mean_squared_error,median_absolute_error,mean_squared_log_error,explained_variance_score,r2_score\n",
    "\n",
    "#borough,LAND SQUARE FEET,GROSS SQUARE FEET,YEAR BUILT,SALE PRICE,commercial,residencial,mixed,# of bus_stop,# of subway_station,# of FELONY,# of VIOLATION,# of MISDEMEANOR,total # of poi,poi type 1,poi type 2,poi type 3,poi type 4,poi type 5,poi type 6,poi type 7,poi type 8,poi type 9,poi type 10,poi type 11,poi type 12,poi type 13,# of roads,total width of raods\n",
    "\n",
    "df = pd.read_csv(\"dataset/onehot.csv\",names=['borough1','borough2','borough3','borough4','borough5','land_area','gross_area','year','price','com','res','mix','numBuses','numSubways','numFelonies','numViolations','numMisdemeanors','totalPoi','poi1','poi2','poi3','poi4','poi5','poi6','poi7','poi8','poi9','poi10','poi11','poi12','poi13','numRoads','roadWidth'],skiprows=1,index_col=False) \n",
    "X = df.loc[:, df.columns != 'price']\n",
    "y = df['price']\n",
    "train_x, test_x, train_y, test_y = train_test_split(df.loc[:, df.columns != 'price'],df['price'],test_size=.25)"
   ]
  },
  {
   "cell_type": "markdown",
   "metadata": {},
   "source": [
    "# Fit in correct format"
   ]
  },
  {
   "cell_type": "code",
   "execution_count": 32,
   "metadata": {},
   "outputs": [],
   "source": [
    "def modelfit(alg, X, y, cv_folds=5, early_stopping_rounds=50, metric='mae'):\n",
    "    \n",
    "\txgb_param = alg.get_xgb_params()\n",
    "\txgtrain = xgb.DMatrix(X, label=y)\n",
    "\tcvresult = xgb.cv(xgb_param, xgtrain, num_boost_round=alg.get_params()['n_estimators'], nfold=cv_folds,\n",
    "\t\tmetrics=metric, early_stopping_rounds=40)\n",
    "\talg.set_params(n_estimators=cvresult.shape[0])\n",
    "    \n",
    "\t#Fit the algorithm on the data\n",
    "\talg.fit(X, y)\n",
    "\tprint(len(cvresult))"
   ]
  },
  {
   "cell_type": "markdown",
   "metadata": {},
   "source": [
    "# Set params"
   ]
  },
  {
   "cell_type": "code",
   "execution_count": 38,
   "metadata": {},
   "outputs": [],
   "source": [
    "xgb1 = XGBRegressor(\n",
    " learning_rate = 0.1, #between .02 and .2, default .3\n",
    " n_estimators=1000,\n",
    " max_depth=9, #default 6, overfit stuff\n",
    " min_child_weight=1,\n",
    " gamma=0,\n",
    " subsample=0.8,\n",
    " colsample_bytree=0.8,\n",
    " objective='reg:linear',\n",
    " nthread=4,\n",
    " scale_pos_weight=1,\n",
    " seed=0)"
   ]
  },
  {
   "cell_type": "markdown",
   "metadata": {},
   "source": [
    "# Predict on training set"
   ]
  },
  {
   "cell_type": "code",
   "execution_count": 39,
   "metadata": {},
   "outputs": [
    {
     "name": "stdout",
     "output_type": "stream",
     "text": [
      "216\n",
      "MAE: 428279.255695\n",
      "MSE: 7.08918298992e+12\n",
      "median error: 88393.75\n",
      "variance score: 0.764118102313\n",
      "r^2 score: 0.764117827336\n",
      "CPU times: user 1min 25s, sys: 1.5 s, total: 1min 26s\n",
      "Wall time: 25.4 s\n"
     ]
    }
   ],
   "source": [
    "%%time\n",
    "#train model\n",
    "modelfit(xgb1, train_x, train_y)\n",
    "\n",
    "#Predict training set:\n",
    "yhat = xgb1.predict(test_x)\n",
    "\n",
    "#Print model report:\n",
    "print(\"MAE: {}\".format(mean_absolute_error(test_y,yhat)))\n",
    "print(\"MSE: {}\".format(mean_squared_error(test_y,yhat)))\n",
    "print(\"median error: {}\".format(median_absolute_error(test_y,yhat)))\n",
    "#print(\"mslog error: {}\".format(mean_squared_log_error(y,yhat)))\n",
    "print(\"variance score: {}\".format(explained_variance_score(test_y,yhat)))\n",
    "print(\"r^2 score: {}\".format(r2_score(test_y,yhat)))"
   ]
  },
  {
   "cell_type": "code",
   "execution_count": 9,
   "metadata": {},
   "outputs": [
    {
     "name": "stdout",
     "output_type": "stream",
     "text": [
      "Baseline MAE: 1154577.5431\n",
      "Baseline MSE: 4.68639521298e+13\n",
      "Basline median error: 693003.283486\n",
      "Basline mslog error: 1.08049534903\n",
      "Basline variance score: 0.0\n",
      "Baseline r^2 score: 0.0\n"
     ]
    }
   ],
   "source": [
    "#unique, counts = np.unique(x['borough'], return_counts=True)\n",
    "#dict(zip(unique, counts))\n",
    "baseline = np.zeros(df['price'].shape) + np.mean(df['price'])\n",
    "print(\"Baseline MAE: {}\".format(mean_absolute_error(df['price'],baseline)))\n",
    "print(\"Baseline MSE: {}\".format(mean_squared_error(df['price'],baseline)))\n",
    "print(\"Basline median error: {}\".format(median_absolute_error(df['price'],baseline)))\n",
    "print(\"Basline mslog error: {}\".format(mean_squared_log_error(df['price'],baseline)))\n",
    "print(\"Basline variance score: {}\".format(explained_variance_score(df['price'],baseline)))\n",
    "print(\"Baseline r^2 score: {}\".format(r2_score(df['price'],baseline)))"
   ]
  },
  {
   "cell_type": "code",
   "execution_count": 40,
   "metadata": {},
   "outputs": [
    {
     "data": {
      "text/plain": [
       "['gross_area: 2821.0',\n",
       " 'year: 2671.0',\n",
       " 'mix: 1273.0',\n",
       " 'roadWidth: 1225.0',\n",
       " 'numViolations: 909.0',\n",
       " 'res: 895.0',\n",
       " 'numSubways: 794.0',\n",
       " 'numRoads: 683.0',\n",
       " 'numBuses: 678.0',\n",
       " 'poi5: 627.0',\n",
       " 'poi13: 625.0',\n",
       " 'numMisdemeanors: 580.0',\n",
       " 'poi4: 503.0',\n",
       " 'numFelonies: 478.0',\n",
       " 'poi6: 448.0',\n",
       " 'borough3: 396.0',\n",
       " 'poi9: 334.0',\n",
       " 'poi11: 313.0',\n",
       " 'borough1: 307.0',\n",
       " 'poi8: 306.0',\n",
       " 'borough2: 295.0',\n",
       " 'borough4: 293.0',\n",
       " 'poi7: 281.0',\n",
       " 'totalPoi: 265.0',\n",
       " 'poi1: 252.0',\n",
       " 'land_area: 236.0',\n",
       " 'poi2: 212.0',\n",
       " 'borough5: 194.0',\n",
       " 'poi10: 135.0',\n",
       " 'poi12: 115.0',\n",
       " 'poi3: 59.0',\n",
       " 'com: 51.0']"
      ]
     },
     "execution_count": 40,
     "metadata": {},
     "output_type": "execute_result"
    }
   ],
   "source": [
    "# Get numerical feature importances\n",
    "importances = pd.Series(xgb1.get_booster().get_fscore())\n",
    "feature_importances = [(feature, round(importance, 2)) for feature, importance in zip(list(X.columns), importances)]\n",
    "# Sort the feature importances by most important first\n",
    "feature_importances = sorted(feature_importances, key = lambda X: X[1], reverse = True)\n",
    "# Print out the feature and importances\n",
    "#print(feature_importances)\n",
    "[\"{}: {}\".format(*pair) for pair in feature_importances]"
   ]
  },
  {
   "cell_type": "code",
   "execution_count": 41,
   "metadata": {},
   "outputs": [
    {
     "data": {
      "image/png": "[encoded data removed]",
      "text/plain": [
       "<matplotlib.figure.Figure at 0x7f0ec3b36e50>"
      ]
     },
     "metadata": {},
     "output_type": "display_data"
    }
   ],
   "source": [
    "%matplotlib inline\n",
    "# Set the style\n",
    "plt.style.use('fivethirtyeight')\n",
    "# list of x locations for plotting\n",
    "x_values = list(range(len(importances)))\n",
    "# Make a bar chart\n",
    "plt.bar(x_values, importances, orientation = 'vertical')\n",
    "# Tick labels for x axis\n",
    "plt.xticks(x_values, list(X.columns), rotation='vertical')\n",
    "# Axis labels and title\n",
    "plt.ylabel('Importance'); plt.xlabel('Variable'); plt.title('Variable Importances');"
   ]
  },
  {
   "cell_type": "markdown",
   "metadata": {},
   "source": [
    "# SICK TUNING"
   ]
  },
  {
   "cell_type": "code",
   "execution_count": 37,
   "metadata": {},
   "outputs": [
    {
     "name": "stderr",
     "output_type": "stream",
     "text": [
      "/home/nik/anaconda2/lib/python2.7/site-packages/sklearn/model_selection/_search.py:761: DeprecationWarning: The grid_scores_ attribute was deprecated in version 0.18 in favor of the more elaborate cv_results_ attribute. The grid_scores_ attribute will not be available from 0.20\n",
      "  DeprecationWarning)\n"
     ]
    },
    {
     "data": {
      "text/plain": [
       "([mean: -1.36479, std: 3.11322, params: {'max_depth': 3, 'min_child_weight': 1},\n",
       "  mean: -0.96579, std: 1.94096, params: {'max_depth': 3, 'min_child_weight': 3},\n",
       "  mean: -1.51754, std: 2.46618, params: {'max_depth': 3, 'min_child_weight': 5},\n",
       "  mean: -0.61777, std: 1.59843, params: {'max_depth': 5, 'min_child_weight': 1},\n",
       "  mean: -0.76276, std: 1.64075, params: {'max_depth': 5, 'min_child_weight': 3},\n",
       "  mean: -1.26374, std: 2.23104, params: {'max_depth': 5, 'min_child_weight': 5},\n",
       "  mean: -0.72139, std: 1.71943, params: {'max_depth': 7, 'min_child_weight': 1},\n",
       "  mean: -0.79814, std: 1.61656, params: {'max_depth': 7, 'min_child_weight': 3},\n",
       "  mean: -1.40131, std: 2.31680, params: {'max_depth': 7, 'min_child_weight': 5},\n",
       "  mean: -0.44026, std: 1.08874, params: {'max_depth': 9, 'min_child_weight': 1},\n",
       "  mean: -0.83935, std: 1.64526, params: {'max_depth': 9, 'min_child_weight': 3},\n",
       "  mean: -1.54833, std: 2.50123, params: {'max_depth': 9, 'min_child_weight': 5}],\n",
       " {'max_depth': 9, 'min_child_weight': 1},\n",
       " -0.44025979952840616)"
      ]
     },
     "execution_count": 37,
     "metadata": {},
     "output_type": "execute_result"
    }
   ],
   "source": [
    "param_test1 = {\n",
    " 'max_depth':range(3,10,2),\n",
    " 'min_child_weight':range(1,6,2)\n",
    "}\n",
    "gsearch1 = GridSearchCV(estimator = XGBRegressor( learning_rate =0.1, n_estimators=810, max_depth=5,\n",
    " min_child_weight=1, gamma=0, subsample=0.8, colsample_bytree=0.8,nthread=4,\n",
    " objective= 'reg:linear', scale_pos_weight=1, seed=0), \n",
    " param_grid = param_test1, iid=False, cv=5)\n",
    "gsearch1.fit(X,y)\n",
    "#gsearch1.grid_scores_, \n",
    "gsearch1.best_params_, gsearch1.best_score_"
   ]
  }
 ],
 "metadata": {
  "kernelspec": {
   "display_name": "Python 2",
   "language": "python",
   "name": "python2"
  },
  "language_info": {
   "codemirror_mode": {
    "name": "ipython",
    "version": 2
   },
   "file_extension": ".py",
   "mimetype": "text/x-python",
   "name": "python",
   "nbconvert_exporter": "python",
   "pygments_lexer": "ipython2",
   "version": "2.7.14"
  }
 },
 "nbformat": 4,
 "nbformat_minor": 2
}
