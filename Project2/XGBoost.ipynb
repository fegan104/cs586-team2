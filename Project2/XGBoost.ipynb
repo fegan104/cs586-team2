{
 "cells": [
  {
   "cell_type": "markdown",
   "metadata": {},
   "source": [
    "# Import libraries and data"
   ]
  },
  {
   "cell_type": "code",
   "execution_count": 3,
   "metadata": {},
   "outputs": [],
   "source": [
    "from __future__ import division\n",
    "import matplotlib.pyplot as plt\n",
    "import pickle\n",
    "import pandas as pd\n",
    "import numpy as np\n",
    "import xgboost as xgb\n",
    "from xgboost.sklearn import XGBRegressor\n",
    "from sklearn.model_selection import GridSearchCV,cross_validate,train_test_split\n",
    "from sklearn.metrics import mean_absolute_error,mean_squared_error,median_absolute_error,mean_squared_log_error,explained_variance_score,r2_score\n",
    "\n",
    "#borough,LAND SQUARE FEET,GROSS SQUARE FEET,YEAR BUILT,SALE PRICE,commercial,residencial,mixed,# of bus_stop,# of subway_station,# of FELONY,# of VIOLATION,# of MISDEMEANOR,total # of poi,poi type 1,poi type 2,poi type 3,poi type 4,poi type 5,poi type 6,poi type 7,poi type 8,poi type 9,poi type 10,poi type 11,poi type 12,poi type 13,# of roads,total width of raods\n",
    "\n",
    "#df = pd.read_csv(\"dataset/onehot.csv\",names=['borough1','borough2','borough3','borough4','borough5','land_area','gross_area','year','price','com','res','mix','numBuses','numSubways','numFelonies','numViolations','numMisdemeanors','totalPoi','poi1','poi2','poi3','poi4','poi5','poi6','poi7','poi8','poi9','poi10','poi11','poi12','poi13','numRoads','roadWidth'],skiprows=1,index_col=False) \n",
    "#X = df.loc[:, df.columns != 'price']\n",
    "#y = df['price']\n",
    "#train_x, test_x, train_y, test_y = train_test_split(df.loc[:, df.columns != 'price'],df['price'],test_size=.25)\n",
    "X = pickle.load(open('dataset/PCA_x.pkl'))\n",
    "y = pickle.load(open('dataset/PCA_y.pkl'))\n",
    "train_x, test_x, train_y, test_y = train_test_split(X,y,test_size=.25)"
   ]
  },
  {
   "cell_type": "markdown",
   "metadata": {},
   "source": [
    "# Fit in correct format"
   ]
  },
  {
   "cell_type": "code",
   "execution_count": 4,
   "metadata": {},
   "outputs": [],
   "source": [
    "def modelfit(alg, X, y, cv_folds=5, early_stopping_rounds=50, metric='mae'):\n",
    "    \n",
    "\txgb_param = alg.get_xgb_params()\n",
    "\txgtrain = xgb.DMatrix(X, label=y)\n",
    "\tcvresult = xgb.cv(xgb_param, xgtrain, num_boost_round=alg.get_params()['n_estimators'], nfold=cv_folds,\n",
    "\t\tmetrics=metric, early_stopping_rounds=40)\n",
    "\talg.set_params(n_estimators=cvresult.shape[0])\n",
    "    \n",
    "\t#Fit the algorithm on the data\n",
    "\talg.fit(X, y)\n",
    "\tprint(len(cvresult))"
   ]
  },
  {
   "cell_type": "markdown",
   "metadata": {},
   "source": [
    "# Set params"
   ]
  },
  {
   "cell_type": "code",
   "execution_count": 5,
   "metadata": {},
   "outputs": [],
   "source": [
    "xgb1 = XGBRegressor(\n",
    " learning_rate = 0.1,          #between .02 and .2, default .3\n",
    " n_estimators=1000,\n",
    " max_depth=9,                  #default 6, overfit stuff\n",
    " min_child_weight=1,\n",
    " gamma=0,\n",
    " subsample=0.8,\n",
    " colsample_bytree=0.8,\n",
    " objective='reg:linear',\n",
    " nthread=4,\n",
    " scale_pos_weight=1,\n",
    " seed=0)"
   ]
  },
  {
   "cell_type": "markdown",
   "metadata": {},
   "source": [
    "# Predict on training set"
   ]
  },
  {
   "cell_type": "code",
   "execution_count": 6,
   "metadata": {},
   "outputs": [
    {
     "name": "stdout",
     "output_type": "stream",
     "text": [
      "1000\n",
      "MAE: 46942.9787133\n",
      "MSE: 26196992546.9\n",
      "median error: 26623.6875\n",
      "variance score: 0.999266751003\n",
      "r^2 score: 0.999266592977\n",
      "CPU times: user 29min 35s, sys: 21.5 s, total: 29min 56s\n",
      "Wall time: 10min 13s\n"
     ]
    }
   ],
   "source": [
    "%%time\n",
    "#train model\n",
    "modelfit(xgb1, train_x, train_y)\n",
    "\n",
    "#Predict training set:\n",
    "yhat = xgb1.predict(test_x)\n",
    "\n",
    "#Print model report:\n",
    "print(\"MAE: {}\".format(mean_absolute_error(test_y,yhat)))\n",
    "print(\"MSE: {}\".format(mean_squared_error(test_y,yhat)))\n",
    "print(\"median error: {}\".format(median_absolute_error(test_y,yhat)))\n",
    "#print(\"mslog error: {}\".format(mean_squared_log_error(y,yhat)))\n",
    "print(\"variance score: {}\".format(explained_variance_score(test_y,yhat)))\n",
    "print(\"r^2 score: {}\".format(r2_score(test_y,yhat)))"
   ]
  },
  {
   "cell_type": "code",
   "execution_count": 8,
   "metadata": {},
   "outputs": [
    {
     "data": {
      "text/plain": [
       "['0: 15725.0',\n",
       " '1: 9911.0',\n",
       " '11: 7460.0',\n",
       " '12: 5370.0',\n",
       " '13: 4978.0',\n",
       " '16: 4878.0',\n",
       " '4: 4740.0',\n",
       " '14: 4589.0',\n",
       " '15: 4414.0',\n",
       " '3: 4266.0',\n",
       " '7: 4209.0',\n",
       " '2: 4198.0',\n",
       " '17: 3945.0',\n",
       " '5: 3822.0',\n",
       " '18: 3758.0',\n",
       " '6: 3736.0',\n",
       " '10: 3564.0',\n",
       " '8: 3479.0',\n",
       " '9: 3449.0']"
      ]
     },
     "execution_count": 8,
     "metadata": {},
     "output_type": "execute_result"
    }
   ],
   "source": [
    "# Get numerical feature importances\n",
    "importances = pd.Series(xgb1.get_booster().get_fscore())\n",
    "feature_importances = [(feature, round(importance, 2)) for feature, importance in zip(list(X.columns), importances)]\n",
    "# Sort the feature importances by most important first\n",
    "feature_importances = sorted(feature_importances, key = lambda X: X[1], reverse = True)\n",
    "# Print out the feature and importances\n",
    "#print(feature_importances)\n",
    "[\"{}: {}\".format(*pair) for pair in feature_importances]"
   ]
  },
  {
   "cell_type": "code",
   "execution_count": 9,
   "metadata": {},
   "outputs": [
    {
     "data": {
      "image/png": "[encoded data removed]",
      "text/plain": [
       "<matplotlib.figure.Figure at 0x7f566e24efd0>"
      ]
     },
     "metadata": {},
     "output_type": "display_data"
    }
   ],
   "source": [
    "%matplotlib inline\n",
    "# Set the style\n",
    "plt.style.use('fivethirtyeight')\n",
    "# list of x locations for plotting\n",
    "x_values = list(range(len(importances)))\n",
    "# Make a bar chart\n",
    "plt.bar(x_values, importances, orientation = 'vertical')\n",
    "# Tick labels for x axis\n",
    "plt.xticks(x_values, list(X.columns), rotation='vertical')\n",
    "# Axis labels and title\n",
    "plt.ylabel('Importance'); plt.xlabel('Variable'); plt.title('Variable Importances');"
   ]
  },
  {
   "cell_type": "markdown",
   "metadata": {},
   "source": [
    "# SICK TUNING"
   ]
  },
  {
   "cell_type": "code",
   "execution_count": null,
   "metadata": {},
   "outputs": [],
   "source": [
    "param_test1 = {\n",
    " 'max_depth':range(3,10,2),\n",
    " 'min_child_weight':range(1,6,2)\n",
    "}\n",
    "gsearch1 = GridSearchCV(estimator = XGBRegressor( learning_rate =0.1, n_estimators=810, max_depth=5,\n",
    " min_child_weight=1, gamma=0, subsample=0.8, colsample_bytree=0.8,nthread=4,\n",
    " objective= 'reg:linear', scale_pos_weight=1, seed=0), \n",
    " param_grid = param_test1, iid=False, cv=5)\n",
    "gsearch1.fit(X,y)\n",
    "#gsearch1.grid_scores_, \n",
    "gsearch1.best_params_, gsearch1.best_score_"
   ]
  }
 ],
 "metadata": {
  "kernelspec": {
   "display_name": "Python 2",
   "language": "python",
   "name": "python2"
  },
  "language_info": {
   "codemirror_mode": {
    "name": "ipython",
    "version": 2
   },
   "file_extension": ".py",
   "mimetype": "text/x-python",
   "name": "python",
   "nbconvert_exporter": "python",
   "pygments_lexer": "ipython2",
   "version": "2.7.14"
  }
 },
 "nbformat": 4,
 "nbformat_minor": 2
}
