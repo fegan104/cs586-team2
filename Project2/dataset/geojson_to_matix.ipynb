{
 "cells": [
  {
   "cell_type": "code",
   "execution_count": 1,
   "metadata": {
    "collapsed": false
   },
   "outputs": [],
   "source": [
    "import numpy as np\n",
    "import pandas as pd\n",
    "df = pd.read_json('geojson/LION.geojson')"
   ]
  },
  {
   "cell_type": "code",
   "execution_count": 2,
   "metadata": {
    "collapsed": false
   },
   "outputs": [],
   "source": [
    "#width, height -73.695442, 40.921146"
   ]
  },
  {
   "cell_type": "code",
   "execution_count": 1,
   "metadata": {
    "collapsed": true
   },
   "outputs": [],
   "source": [
    "def to_grid(latitude, longitude):\n",
    "    import math\n",
    "    origin_lat = 40.487526\n",
    "    origin_long = -74.261174\n",
    "    pi = math.pi\n",
    "    grid_x = math.floor(((longitude - origin_long) * 6371000 * (2 * pi/360) * math.cos(40.712408*pi/180)) / 50)\n",
    "    grid_y = math.floor(((latitude - origin_lat) * 6371000 * (2 * pi/360)) / 50)\n",
    "    return int(grid_x), int(grid_y)"
   ]
  },
  {
   "cell_type": "code",
   "execution_count": 2,
   "metadata": {
    "collapsed": false
   },
   "outputs": [
    {
     "data": {
      "text/plain": [
       "(953, 964)"
      ]
     },
     "execution_count": 2,
     "metadata": {},
     "output_type": "execute_result"
    }
   ],
   "source": [
    "to_grid(40.921146, -73.695442)"
   ]
  },
  {
   "cell_type": "code",
   "execution_count": 39,
   "metadata": {
    "collapsed": false
   },
   "outputs": [],
   "source": [
    "def len_number(number):\n",
    "    length = 1\n",
    "    while(number>100):\n",
    "        number /= 100\n",
    "        length += 1\n",
    "    return length"
   ]
  },
  {
   "cell_type": "code",
   "execution_count": 3,
   "metadata": {
    "collapsed": false
   },
   "outputs": [],
   "source": [
    "#POI\n",
    "import numpy as np\n",
    "import pandas as pd\n",
    "poi = pd.read_json('geojson/POI.geojson')\n",
    "\n",
    "poi_grid = -1*np.ones((953,964))\n",
    "location_list = []\n",
    "for i in range(len(poi)):\n",
    "    lon = poi['features'][i]['geometry']['coordinates'][0]\n",
    "    lat = poi['features'][i]['geometry']['coordinates'][1]\n",
    "    dom = int(poi['features'][i]['properties']['faci_dom'])\n",
    "    \n",
    "    grid_x, grid_y = to_grid(lat, lon)\n",
    "    if (grid_x > 0 and grid_y > 0) and (grid_x < 935 and grid_y < 982) and dom < 14:\n",
    "        if(poi_grid[grid_x][grid_y] + 1 > 0):\n",
    "            location_list[int(poi_grid[grid_x][grid_y])] += str(dom)+','\n",
    "        else:\n",
    "            poi_grid[grid_x][grid_y] = len(location_list)\n",
    "            location_list.append(str(dom)+',')"
   ]
  },
  {
   "cell_type": "code",
   "execution_count": 4,
   "metadata": {
    "collapsed": false
   },
   "outputs": [],
   "source": [
    "poi = {}\n",
    "poi['poi_map'] = poi_grid\n",
    "poi['poi_list'] = location_list\n",
    "np.save('poi.npy', poi)"
   ]
  },
  {
   "cell_type": "code",
   "execution_count": 6,
   "metadata": {
    "collapsed": false
   },
   "outputs": [
    {
     "data": {
      "text/plain": [
       "True"
      ]
     },
     "execution_count": 6,
     "metadata": {},
     "output_type": "execute_result"
    }
   ],
   "source": [
    "cv2.imwrite(\"poi.png\", poi_grid)"
   ]
  },
  {
   "cell_type": "code",
   "execution_count": 5,
   "metadata": {
    "collapsed": false
   },
   "outputs": [
    {
     "data": {
      "text/plain": [
       "True"
      ]
     },
     "execution_count": 5,
     "metadata": {},
     "output_type": "execute_result"
    }
   ],
   "source": [
    "#POI\n",
    "import numpy as np\n",
    "import pandas as pd\n",
    "sub = pd.read_json('geojson/Subway_Stations.geojson')\n",
    "\n",
    "sub_grid = np.zeros((953,964))\n",
    "for i in range(len(sub)):\n",
    "    lon = sub['features'][i]['geometry']['coordinates'][0]\n",
    "    lat = sub['features'][i]['geometry']['coordinates'][1]\n",
    "    \n",
    "    grid_x, grid_y = to_grid(lat, lon)\n",
    "    if grid_x > 0 and grid_y > 0 and grid_x < 935 and grid_y < 982:\n",
    "        sub_grid[grid_x, grid_y] = 255\n",
    "\n",
    "np.save('subway.npy', sub_grid)\n",
    "import cv2\n",
    "cv2.imwrite(\"subway.png\", sub_grid)"
   ]
  },
  {
   "cell_type": "code",
   "execution_count": 7,
   "metadata": {
    "collapsed": false
   },
   "outputs": [
    {
     "data": {
      "text/plain": [
       "True"
      ]
     },
     "execution_count": 7,
     "metadata": {},
     "output_type": "execute_result"
    }
   ],
   "source": [
    "#block\n",
    "import numpy as np\n",
    "import pandas as pd\n",
    "bls = pd.read_csv('block_gps.csv')\n",
    "\n",
    "bl_grid = np.zeros((953,964))\n",
    "for i in range(len(bls)):\n",
    "    lon = bls['longitude'][i]\n",
    "    lat = bls['latitude'][i]\n",
    "    \n",
    "    grid_x, grid_y = to_grid(lat, lon)\n",
    "    if grid_x > 0 and grid_y > 0 and grid_x < 935 and grid_y < 982:\n",
    "        bl_grid[grid_x, grid_y] = 255\n",
    "\n",
    "import cv2\n",
    "cv2.imwrite(\"block.png\", bl_grid)"
   ]
  }
 ],
 "metadata": {
  "kernelspec": {
   "display_name": "Python [conda env:py27]",
   "language": "python",
   "name": "conda-env-py27-py"
  },
  "language_info": {
   "codemirror_mode": {
    "name": "ipython",
    "version": 2
   },
   "file_extension": ".py",
   "mimetype": "text/x-python",
   "name": "python",
   "nbconvert_exporter": "python",
   "pygments_lexer": "ipython2",
   "version": "2.7.13"
  }
 },
 "nbformat": 4,
 "nbformat_minor": 2
}
