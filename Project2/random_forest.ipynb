{
 "cells": [
  {
   "cell_type": "code",
   "execution_count": 1,
   "metadata": {},
   "outputs": [],
   "source": [
    "from __future__ import division\n",
    "import matplotlib.pyplot as plt\n",
    "import pandas as pd\n",
    "import numpy as np\n",
    "from sklearn.ensemble import RandomForestRegressor\n",
    "from sklearn.model_selection import train_test_split\n",
    "from sklearn.metrics import mean_absolute_error,mean_squared_error,median_absolute_error,mean_squared_log_error,explained_variance_score,r2_score\n",
    "\n",
    "#borough,LAND SQUARE FEET,GROSS SQUARE FEET,YEAR BUILT,SALE PRICE,commercial,residencial,mixed,# of bus_stop,# of subway_station,# of FELONY,# of VIOLATION,# of MISDEMEANOR,total # of poi,poi type 1,poi type 2,poi type 3,poi type 4,poi type 5,poi type 6,poi type 7,poi type 8,poi type 9,poi type 10,poi type 11,poi type 12,poi type 13,# of roads,total width of raods\n",
    "\n",
    "df = pd.read_csv(\"dataset/feature_matrix_1200m_1column_borough.csv\",names=['type','borough','land_area','gross_area','year','price','numBuses','numSubways','numFelonies','numViolations','numMisdemeanors','totalPoi','poi1','poi2','poi3','poi4','poi5','poi6','poi7','poi8','poi9','poi10','poi11','poi12','poi13','numRoads','roadWidth'],skiprows=1,index_col=False) \n",
    "train_x, test_x, train_y, test_y = train_test_split(df.loc[:, df.columns != 'price'],df['price'],test_size=.33)"
   ]
  },
  {
   "cell_type": "code",
   "execution_count": null,
   "metadata": {},
   "outputs": [
    {
     "name": "stdout",
     "output_type": "stream",
     "text": [
      "Baseline MAE: 1141197.96042\n",
      "Baseline MSE: 4.61261484318e+13\n",
      "Basline median error: 687511.068075\n",
      "Basline mslog error: 1.06991969009\n",
      "Basline variance score: 0.0\n",
      "Baseline r^2 score: 0.0\n"
     ]
    }
   ],
   "source": [
    "#unique, counts = np.unique(x['borough'], return_counts=True)\n",
    "#dict(zip(unique, counts))\n",
    "baseline = np.zeros(df['price'].shape) + np.mean(df['price'])\n",
    "print(\"Baseline MAE: {}\".format(mean_absolute_error(df['price'],baseline)))\n",
    "print(\"Baseline MSE: {}\".format(mean_squared_error(df['price'],baseline)))\n",
    "print(\"Basline median error: {}\".format(median_absolute_error(df['price'],baseline)))\n",
    "print(\"Basline mslog error: {}\".format(mean_squared_log_error(df['price'],baseline)))\n",
    "print(\"Basline variance score: {}\".format(explained_variance_score(df['price'],baseline)))\n",
    "print(\"Baseline r^2 score: {}\".format(r2_score(df['price'],baseline)))"
   ]
  },
  {
   "cell_type": "code",
   "execution_count": null,
   "metadata": {},
   "outputs": [],
   "source": [
    "forest = RandomForestRegressor(1000)\n",
    "forest.fit(train_x,train_y)\n",
    "yhat = forest.predict(test_x)\n",
    "print(\"MAE: {}\".format(mean_absolute_error(test_y,yhat)))\n",
    "print(\"MSE: {}\".format(mean_squared_error(test_y,yhat)))\n",
    "print(\"median error: {}\".format(median_absolute_error(test_y,yhat)))\n",
    "print(\"mslog error: {}\".format(mean_squared_log_error(test_y,yhat)))\n",
    "print(\"variance score: {}\".format(explained_variance_score(test_y,yhat)))\n",
    "print(\"r^2 score: {}\".format(r2_score(test_y,yhat)))"
   ]
  },
  {
   "cell_type": "code",
   "execution_count": null,
   "metadata": {},
   "outputs": [],
   "source": [
    "# Get numerical feature importances\n",
    "importances = list(forest.feature_importances_)\n",
    "feature_importances = [(feature, round(importance, 2)) for feature, importance in zip(list(train_x.columns), importances)]\n",
    "# Sort the feature importances by most important first\n",
    "feature_importances = sorted(feature_importances, key = lambda train_x: train_x[1], reverse = True)\n",
    "# Print out the feature and importances \n",
    "#print(feature_importances)\n",
    "[\"{}: {}\".format(*pair) for pair in feature_importances]"
   ]
  },
  {
   "cell_type": "code",
   "execution_count": null,
   "metadata": {},
   "outputs": [],
   "source": [
    "%matplotlib inline\n",
    "# Set the style\n",
    "plt.style.use('fivethirtyeight')\n",
    "# list of x locations for plotting\n",
    "x_values = list(range(len(importances)))\n",
    "# Make a bar chart\n",
    "plt.bar(x_values, importances, orientation = 'vertical')\n",
    "# Tick labels for x axis\n",
    "plt.xticks(x_values, list(train_x.columns), rotation='vertical')\n",
    "# Axis labels and title\n",
    "plt.ylabel('Importance'); plt.xlabel('Variable'); plt.title('Variable Importances');"
   ]
  },
  {
   "cell_type": "code",
   "execution_count": null,
   "metadata": {
    "scrolled": false
   },
   "outputs": [],
   "source": [
    "## Import tools needed for visualization\n",
    "from sklearn.tree import export_graphviz\n",
    "import pydot\n",
    "# Pull out one tree from the forest\n",
    "#tree = forest.estimators_[5]\n",
    "# Export the image to a dot file\n",
    "#export_graphviz(tree, out_file = 'tree.dot', feature_names = list(train_x.columns), rounded = True, precision = 1)\n",
    "# Use dot file to create a graph\n",
    "#(graph, ) = pydot.graph_from_dot_file('tree.dot')\n",
    "# Write graph to a png file //DO NOT DO THIS HOLY CRAP\n",
    "#graph.write_png('tree.png')\n",
    "# Limit depth of tree to 3 levels\n",
    "rf_small = RandomForestRegressor(n_estimators=10, max_depth = 3)\n",
    "rf_small.fit(train_x, train_y)\n",
    "# Extract the small tree\n",
    "tree_small = rf_small.estimators_[5]"
   ]
  },
  {
   "cell_type": "code",
   "execution_count": null,
   "metadata": {},
   "outputs": [],
   "source": [
    "# Save the tree as a png image\n",
    "export_graphviz(tree_small, out_file = 'small_tree.dot', feature_names = list(train_x.columns), rounded = True, precision = 1)\n",
    "(graph, ) = pydot.graph_from_dot_file('small_tree.dot')\n",
    "graph.write_png('small_tree.png');"
   ]
  }
 ],
 "metadata": {
  "kernelspec": {
   "display_name": "Python 2",
   "language": "python",
   "name": "python2"
  },
  "language_info": {
   "codemirror_mode": {
    "name": "ipython",
    "version": 2
   },
   "file_extension": ".py",
   "mimetype": "text/x-python",
   "name": "python",
   "nbconvert_exporter": "python",
   "pygments_lexer": "ipython2",
   "version": "2.7.14"
  }
 },
 "nbformat": 4,
 "nbformat_minor": 2
}
