{
 "cells": [
  {
   "cell_type": "code",
   "execution_count": 1,
   "metadata": {},
   "outputs": [],
   "source": [
    "from __future__ import division\n",
    "import matplotlib.pyplot as plt\n",
    "import pandas as pd\n",
    "import numpy as np\n",
    "from sklearn.ensemble import RandomForestRegressor\n",
    "from sklearn.model_selection import train_test_split\n",
    "from sklearn.metrics import mean_absolute_error,mean_squared_error,median_absolute_error,mean_squared_log_error,explained_variance_score,r2_score\n",
    "\n",
    "#borough,LAND SQUARE FEET,GROSS SQUARE FEET,YEAR BUILT,SALE PRICE,commercial,residencial,mixed,# of bus_stop,# of subway_station,# of FELONY,# of VIOLATION,# of MISDEMEANOR,total # of poi,poi type 1,poi type 2,poi type 3,poi type 4,poi type 5,poi type 6,poi type 7,poi type 8,poi type 9,poi type 10,poi type 11,poi type 12,poi type 13,# of roads,total width of raods\n",
    "\n",
    "raw_df = pd.read_csv(\"dataset/cat.csv\",names=['type','borough','land_area','gross_area','year','price','numBuses','numSubways','numFelonies','numViolations','numMisdemeanors','totalPoi','poi1','poi2','poi3','poi4','poi5','poi6','poi7','poi8','poi9','poi10','poi11','poi12','poi13','numRoads','roadWidth'],skiprows=1,index_col=False) \n",
    "raw_df['type'] = pd.Categorical(raw_df['type'],[0,1,2])\n",
    "raw_df['borough'] = pd.Categorical(raw_df['borough'],[1,2,3,4,5])\n",
    "train_x, test_x, train_y, test_y = train_test_split(raw_df.loc[:, raw_df.columns != 'price'],raw_df['price'],test_size=.33)"
   ]
  },
  {
   "cell_type": "code",
   "execution_count": 18,
   "metadata": {},
   "outputs": [
    {
     "name": "stdout",
     "output_type": "stream",
     "text": [
      "(49020, 33)\n"
     ]
    }
   ],
   "source": [
    "%%time\n",
    "## PCA \n",
    "\n",
    "from sklearn import datasets\n",
    "from sklearn.decomposition import PCA\n",
    "from sklearn.preprocessing import StandardScaler\n",
    "import pickle\n",
    "\n",
    "# Get feature matrix from pickled files to create linear regression model\n",
    "df = pd.read_excel('dataset/feature_matrix_1200m_2.xlsx')\n",
    "\n",
    "df = df[df.values[:,32]<1.46e6]\n",
    "print(df.shape)\n",
    "#df.as_matrix()\n",
    "X_raw = df.values[:, :31]\t\t\t# Matrix of shape[n_samples, n_features] (32 features)\n",
    "np.random.seed(0)\n",
    "train_x, test_x, y_train, y_test = train_test_split(df.values[:, :31],df.values[:,32],test_size=.20)"
   ]
  },
  {
   "cell_type": "code",
   "execution_count": 19,
   "metadata": {},
   "outputs": [
    {
     "name": "stderr",
     "output_type": "stream",
     "text": [
      "/home/nik/anaconda2/lib/python2.7/site-packages/sklearn/utils/validation.py:475: DataConversionWarning: Data with input dtype int64 was converted to float64 by StandardScaler.\n",
      "  warnings.warn(msg, DataConversionWarning)\n"
     ]
    },
    {
     "name": "stdout",
     "output_type": "stream",
     "text": [
      "('pca explained variance ratio', array([0.27580661, 0.08307828, 0.06762462, 0.05640855, 0.04740012,\n",
      "       0.04176539, 0.04002197, 0.03458605, 0.03278377, 0.03045786,\n",
      "       0.02941309, 0.02635603, 0.02429375, 0.02341507, 0.02166128,\n",
      "       0.02134402, 0.0196682 , 0.01900456, 0.01819425, 0.01692547,\n",
      "       0.01450322, 0.0134224 ]))\n",
      "('shape', (39216, 22))\n"
     ]
    }
   ],
   "source": [
    "# SCALE DATA \n",
    "z_scaler = StandardScaler()\n",
    "z_scaler.fit(train_x)\n",
    "scaled_train_x = z_scaler.transform(train_x)\n",
    "scaled_test_x = z_scaler.transform(test_x)\n",
    "\n",
    "# PCA \n",
    "# To getter a better understanding of interaction of the dimensions\n",
    "# plot the first three PCA dimensions\n",
    "pca = PCA(n_components=0.95, svd_solver='full')\n",
    "pca.fit(scaled_train_x)\n",
    "PCA_x_train = pca.transform(train_x)\n",
    "PCA_x_test = pca.transform(test_x)\n",
    "#print(\"pca explained variance\", pca.explained_variance_)\n",
    "print(\"pca explained variance ratio\", pca.explained_variance_ratio_)\n",
    "#print(\"pca components\", pca.components_)\n",
    "print(\"shape\", PCA_x_train.shape)"
   ]
  },
  {
   "cell_type": "code",
   "execution_count": 20,
   "metadata": {},
   "outputs": [],
   "source": [
    "PCA_x_train = pd.DataFrame(PCA_x_train)\n",
    "PCA_x_train.to_pickle('dataset/PCA_x_train.pkl')\n",
    "pickle.dump(y_train,open('dataset/y_train.pkl','wb'))\n",
    "PCA_x_test = pd.DataFrame(PCA_x_test)\n",
    "PCA_x_test.to_pickle('dataset/PCA_x_test.pkl')\n",
    "pickle.dump(y_test,open('dataset/y_test.pkl','wb'))"
   ]
  },
  {
   "cell_type": "code",
   "execution_count": 21,
   "metadata": {},
   "outputs": [
    {
     "name": "stdout",
     "output_type": "stream",
     "text": [
      "CPU times: user 14 s, sys: 484 ms, total: 14.5 s\n",
      "Wall time: 15 s\n"
     ]
    },
    {
     "data": {
      "image/png": "[encoded data removed]",
      "text/plain": [
       "<matplotlib.figure.Figure at 0x7f146206ce10>"
      ]
     },
     "metadata": {},
     "output_type": "display_data"
    }
   ],
   "source": [
    "%%time\n",
    "%matplotlib inline\n",
    "plt.xlim(0,.5e7)\n",
    "plt.xlabel('Price (USD)')\n",
    "plt.ylabel('Frequency')\n",
    "plt.hist(raw_df['price'].sample(10000),bins='auto')"
   ]
  },
  {
   "cell_type": "code",
   "execution_count": 22,
   "metadata": {},
   "outputs": [
    {
     "name": "stdout",
     "output_type": "stream",
     "text": [
      "Baseline MAE: 801538.732415\n",
      "Baseline MSE: 4.73061814968e+13\n",
      "Baseline median error: 165000.0\n",
      "Baseline mslog error: 0.590847155041\n",
      "Baseline variance score: 0.0\n",
      "Baseline r^2 score: -0.0094364505542\n"
     ]
    }
   ],
   "source": [
    "#unique, counts = np.unique(x['borough'], return_counts=True)\n",
    "#dict(zip(unique, counts))\n",
    "baseline = np.zeros(raw_df['price'].shape) + np.median(raw_df['price'])\n",
    "print(\"Baseline MAE: {}\".format(mean_absolute_error(raw_df['price'],baseline)))\n",
    "print(\"Baseline MSE: {}\".format(mean_squared_error(raw_df['price'],baseline)))\n",
    "print(\"Baseline median error: {}\".format(median_absolute_error(raw_df['price'],baseline)))\n",
    "print(\"Baseline mslog error: {}\".format(mean_squared_log_error(raw_df['price'],baseline)))\n",
    "print(\"Baseline variance score: {}\".format(explained_variance_score(raw_df['price'],baseline)))\n",
    "print(\"Baseline r^2 score: {}\".format(r2_score(raw_df['price'],baseline)))"
   ]
  },
  {
   "cell_type": "code",
   "execution_count": 23,
   "metadata": {},
   "outputs": [
    {
     "name": "stdout",
     "output_type": "stream",
     "text": [
      "MAE: 27412.7201266\n",
      "MSE: 2808941225.42\n",
      "median error: 11156.3046875\n",
      "mslog error: 0.0180018366622\n",
      "variance score: 0.956670939244\n",
      "r^2 score: 0.956665903345\n",
      "CPU times: user 4min 58s, sys: 703 ms, total: 4min 59s\n",
      "Wall time: 5min 3s\n"
     ]
    }
   ],
   "source": [
    "%%time\n",
    "forest = RandomForestRegressor(128)\n",
    "forest.fit(PCA_x_train,y_train)\n",
    "yhat = forest.predict(PCA_x_test)\n",
    "print(\"MAE: {}\".format(mean_absolute_error(y_test,yhat)))\n",
    "print(\"MSE: {}\".format(mean_squared_error(y_test,yhat)))\n",
    "print(\"median error: {}\".format(median_absolute_error(y_test,yhat)))\n",
    "print(\"mslog error: {}\".format(mean_squared_log_error(y_test,yhat)))\n",
    "print(\"variance score: {}\".format(explained_variance_score(y_test,yhat)))\n",
    "print(\"r^2 score: {}\".format(r2_score(y_test,yhat)))"
   ]
  },
  {
   "cell_type": "code",
   "execution_count": 24,
   "metadata": {},
   "outputs": [
    {
     "name": "stdout",
     "output_type": "stream",
     "text": [
      "total # of poi: 0.321685342588\n",
      "# of MISDEMEANOR: 0.299094889067\n",
      "# of VIOLATION: 0.296173648598\n",
      "# of FELONY: 0.28959161082\n",
      "poi type 1: 0.259181874075\n",
      "poi type 2: 0.255999348206\n",
      "# of bus_stop: 0.219897522884\n",
      "poi type 3: 0.208032234211\n",
      "poi type 9: 0.204648326602\n",
      "poi type 11: 0.203531016244\n",
      "poi type 4: 0.203402345854\n",
      "# of subway_station: 0.202973347886\n",
      "poi type 7: 0.190762985251\n",
      "poi type 12: 0.167919145619\n",
      "poi type 10: 0.163154428843\n",
      "poi type 5: 0.158780942559\n",
      "b2: 0.153405047592\n",
      "poi type 6: 0.128045148984\n",
      "YEAR BUILT: -0.106313743736\n",
      "residencial: -0.105892515314\n",
      "b1: 0.0991477078334\n",
      "commercial: 0.0967595399789\n",
      "b4: -0.0957219278406\n",
      "poi type 13: 0.0929522371635\n",
      "b3: -0.089494973687\n",
      "# of roads: 0.0811796847765\n",
      "poi type 8: 0.0760199779948\n",
      "b0: 0.0716338459277\n",
      "mixed: 0.0485927180195\n",
      "GROSS SQUARE FEET: 0.0349323039253\n",
      "LAND SQUARE FEET: -0.017588486736\n"
     ]
    }
   ],
   "source": [
    "labels = ['b0','b1','b2','b3','b4','LAND SQUARE FEET','GROSS SQUARE FEET','YEAR BUILT','commercial','residencial','mixed','# of bus_stop','# of subway_station','# of FELONY','# of VIOLATION','# of MISDEMEANOR','total # of poi','poi type 1','poi type 2','poi type 3','poi type 4','poi type 5','poi type 6','poi type 7','poi type 8','poi type 9','poi type 10','poi type 11','poi type 12','poi type 13','# of roads','total width of raods']\n",
    "\n",
    "indices = np.array(np.argsort(abs(np.array(pca.components_[0]))))\n",
    "for l,i in list(zip(np.array(labels)[indices],np.array(pca.components_[0])[indices]))[::-1]:\n",
    "\tprint(\"{}: {}\".format(l,i))"
   ]
  },
  {
   "cell_type": "code",
   "execution_count": 25,
   "metadata": {},
   "outputs": [
    {
     "data": {
      "text/plain": [
       "['2: 0.14',\n",
       " '11: 0.1',\n",
       " '3: 0.08',\n",
       " '8: 0.07',\n",
       " '1: 0.06',\n",
       " '14: 0.05',\n",
       " '15: 0.05',\n",
       " '18: 0.05',\n",
       " '10: 0.04',\n",
       " '13: 0.04',\n",
       " '16: 0.04',\n",
       " '17: 0.04',\n",
       " '0: 0.03',\n",
       " '5: 0.03',\n",
       " '7: 0.03',\n",
       " '19: 0.03',\n",
       " '20: 0.03',\n",
       " '4: 0.02',\n",
       " '6: 0.02',\n",
       " '9: 0.02',\n",
       " '12: 0.02',\n",
       " '21: 0.02']"
      ]
     },
     "execution_count": 25,
     "metadata": {},
     "output_type": "execute_result"
    }
   ],
   "source": [
    "# Get numerical feature importances\n",
    "importances = list(forest.feature_importances_)\n",
    "feature_importances = [(feature, round(importance, 2)) for feature, importance in zip(list(PCA_x_train.columns), importances)]\n",
    "# Sort the feature importances by most important first\n",
    "feature_importances = sorted(feature_importances, key = lambda PCA_x_train: PCA_x_train[1], reverse = True)\n",
    "# Print out the feature and importances\n",
    "#print(feature_importances)\n",
    "[\"{}: {}\".format(*pair) for pair in feature_importances]"
   ]
  },
  {
   "cell_type": "code",
   "execution_count": 26,
   "metadata": {},
   "outputs": [
    {
     "data": {
      "image/png": "[encoded data removed]",
      "text/plain": [
       "<matplotlib.figure.Figure at 0x7f145fd54410>"
      ]
     },
     "metadata": {},
     "output_type": "display_data"
    }
   ],
   "source": [
    "%matplotlib inline\n",
    "# Set the style\n",
    "plt.style.use('fivethirtyeight')\n",
    "# list of x locations for plotting\n",
    "x_values = list(range(len(importances)))\n",
    "# Make a bar chart\n",
    "plt.bar(x_values, importances, orientation = 'vertical')\n",
    "# Tick labels for x axis\n",
    "plt.xticks(x_values, list(PCA_x_train.columns), rotation='vertical')\n",
    "# Axis labels and title\n",
    "plt.ylabel('Importance'); plt.xlabel('Variable'); plt.title('Variable Importances');"
   ]
  },
  {
   "cell_type": "code",
   "execution_count": 28,
   "metadata": {
    "scrolled": false
   },
   "outputs": [
    {
     "name": "stdout",
     "output_type": "stream",
     "text": [
      "CPU times: user 5.91 s, sys: 0 ns, total: 5.91 s\n",
      "Wall time: 6.01 s\n"
     ]
    }
   ],
   "source": [
    "%%time\n",
    "## Import tools needed for visualization\n",
    "from sklearn.tree import export_graphviz\n",
    "import pydot\n",
    "# Pull out one tree from the forest\n",
    "#tree = forest.estimators_[5]\n",
    "# Export the image to a dot file\n",
    "#export_graphviz(tree, out_file = 'tree.dot', feature_names = list(train_x.columns), rounded = True, precision = 1)\n",
    "# Use dot file to create a graph\n",
    "#(graph, ) = pydot.graph_from_dot_file('tree.dot')\n",
    "# Write graph to a png file //DO NOT DO THIS HOLY CRAP\n",
    "#graph.write_png('tree.png')\n",
    "# Limit depth of tree to 3 levels\n",
    "rf_small = RandomForestRegressor(n_estimators=10, max_depth = 3)\n",
    "rf_small.fit(PCA_x_train, y_train)\n",
    "# Extract the small tree\n",
    "tree_small = rf_small.estimators_[5]"
   ]
  },
  {
   "cell_type": "code",
   "execution_count": 30,
   "metadata": {},
   "outputs": [
    {
     "name": "stdout",
     "output_type": "stream",
     "text": [
      "CPU times: user 547 ms, sys: 297 ms, total: 844 ms\n",
      "Wall time: 6.4 s\n"
     ]
    }
   ],
   "source": [
    "%%time\n",
    "# Save the tree as a png image\n",
    "export_graphviz(tree_small, out_file = 'small_tree.dot', feature_names = list(PCA_x_train.columns), rounded = True, precision = 1)\n",
    "(graph, ) = pydot.graph_from_dot_file('small_tree.dot')\n",
    "graph.write_png('small_tree.png');"
   ]
  }
 ],
 "metadata": {
  "kernelspec": {
   "display_name": "Python 2",
   "language": "python",
   "name": "python2"
  },
  "language_info": {
   "codemirror_mode": {
    "name": "ipython",
    "version": 2
   },
   "file_extension": ".py",
   "mimetype": "text/x-python",
   "name": "python",
   "nbconvert_exporter": "python",
   "pygments_lexer": "ipython2",
   "version": "2.7.14"
  }
 },
 "nbformat": 4,
 "nbformat_minor": 2
}
