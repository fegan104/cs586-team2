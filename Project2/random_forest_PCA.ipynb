{
 "cells": [
  {
   "cell_type": "code",
   "execution_count": 1,
   "metadata": {},
   "outputs": [],
   "source": [
    "from __future__ import division\n",
    "import matplotlib.pyplot as plt\n",
    "import pandas as pd\n",
    "import numpy as np\n",
    "from sklearn.ensemble import RandomForestRegressor\n",
    "from sklearn.model_selection import train_test_split\n",
    "from sklearn.metrics import mean_absolute_error,mean_squared_error,median_absolute_error,mean_squared_log_error,explained_variance_score,r2_score\n",
    "\n",
    "#borough,LAND SQUARE FEET,GROSS SQUARE FEET,YEAR BUILT,SALE PRICE,commercial,residencial,mixed,# of bus_stop,# of subway_station,# of FELONY,# of VIOLATION,# of MISDEMEANOR,total # of poi,poi type 1,poi type 2,poi type 3,poi type 4,poi type 5,poi type 6,poi type 7,poi type 8,poi type 9,poi type 10,poi type 11,poi type 12,poi type 13,# of roads,total width of raods\n",
    "\n",
    "raw_df = pd.read_csv(\"dataset/cat.csv\",names=['type','borough','land_area','gross_area','year','price','numBuses','numSubways','numFelonies','numViolations','numMisdemeanors','totalPoi','poi1','poi2','poi3','poi4','poi5','poi6','poi7','poi8','poi9','poi10','poi11','poi12','poi13','numRoads','roadWidth'],skiprows=1,index_col=False) \n",
    "raw_df['type'] = pd.Categorical(raw_df['type'],[0,1,2])\n",
    "raw_df['borough'] = pd.Categorical(raw_df['borough'],[1,2,3,4,5])\n",
    "train_x, test_x, train_y, test_y = train_test_split(raw_df.loc[:, raw_df.columns != 'price'],raw_df['price'],test_size=.33)"
   ]
  },
  {
   "cell_type": "code",
   "execution_count": 2,
   "metadata": {},
   "outputs": [
    {
     "name": "stderr",
     "output_type": "stream",
     "text": [
      "/home/nik/anaconda2/lib/python2.7/site-packages/sklearn/utils/validation.py:475: DataConversionWarning: Data with input dtype int64 was converted to float64 by StandardScaler.\n",
      "  warnings.warn(msg, DataConversionWarning)\n"
     ]
    },
    {
     "name": "stdout",
     "output_type": "stream",
     "text": [
      "('pca explained variance ratio', array([0.3686255 , 0.07177907, 0.0521559 , 0.04975521, 0.04361671,\n",
      "       0.03954496, 0.03631861, 0.03456497, 0.03190533, 0.03142384,\n",
      "       0.03059736, 0.02707555, 0.0242384 , 0.02259943, 0.02177969,\n",
      "       0.02051641, 0.01838578, 0.01763887, 0.01673132]))\n",
      "('shape', (52828, 19))\n",
      "CPU times: user 1min 6s, sys: 1.75 s, total: 1min 8s\n",
      "Wall time: 1min 10s\n"
     ]
    }
   ],
   "source": [
    "%%time\n",
    "## PCA \n",
    "\n",
    "from sklearn import datasets\n",
    "from sklearn.decomposition import PCA\n",
    "from sklearn.preprocessing import StandardScaler\n",
    "import pickle\n",
    "\n",
    "# Get feature matrix from pickled files to create linear regression model\n",
    "df = pd.read_excel('dataset/feature_matrix_1200m_2.xlsx')\n",
    "df.as_matrix()\n",
    "X_raw = df.values[:, 5:31] \t\t\t# Matrix of shape[n_samples, n_features] (32 features)\n",
    "labels = ['LAND SQUARE FEET','GROSS SQUARE FEET','YEAR BUILT','commercial','residencial','mixed','# of bus_stop','# of subway_station','# of FELONY','# of VIOLATION','# of MISDEMEANOR','total # of poi','poi type 1','poi type 2','poi type 3','poi type 4','poi type 5','poi type 6','poi type 7','poi type 8','poi type 9','poi type 10','poi type 11','poi type 12','poi type 13','# of roads','total width of raods']\n",
    "\n",
    "# SCALE DATA \n",
    "z_scaler = StandardScaler()\n",
    "z_data = z_scaler.fit_transform(X_raw)\n",
    "\n",
    "# PCA \n",
    "# To getter a better understanding of interaction of the dimensions\n",
    "# plot the first three PCA dimensions\n",
    "pca = PCA(n_components=0.95, svd_solver='full')\n",
    "pca.fit(z_data)\n",
    "X_reduced = pca.transform(z_data)\n",
    "#print(\"pca explained variance\", pca.explained_variance_)\n",
    "print(\"pca explained variance ratio\", pca.explained_variance_ratio_)\n",
    "#print(\"pca components\", pca.components_)\n",
    "print(\"shape\", X_reduced.shape)"
   ]
  },
  {
   "cell_type": "code",
   "execution_count": 3,
   "metadata": {},
   "outputs": [],
   "source": [
    "X_reduced = pd.DataFrame(X_reduced)\n",
    "X_reduced.to_pickle('dataset/PCA_x.pkl')\n",
    "Y_PCA = pd.DataFrame(df.values[:,32])\n",
    "Y_PCA.to_pickle('dataset/PCA_y.pkl')"
   ]
  },
  {
   "cell_type": "code",
   "execution_count": 4,
   "metadata": {},
   "outputs": [
    {
     "name": "stdout",
     "output_type": "stream",
     "text": [
      "CPU times: user 43.8 s, sys: 2.45 s, total: 46.2 s\n",
      "Wall time: 49.6 s\n"
     ]
    },
    {
     "data": {
      "image/png": "[encoded data removed]",
      "text/plain": [
       "<matplotlib.figure.Figure at 0x7f160cd57f90>"
      ]
     },
     "metadata": {},
     "output_type": "display_data"
    }
   ],
   "source": [
    "%%time\n",
    "%matplotlib inline\n",
    "plt.xlim(0,.5e7)\n",
    "plt.xlabel('Price (USD)')\n",
    "plt.ylabel('Frequency')\n",
    "plt.hist(raw_df['price'].sample(10000),bins='auto')"
   ]
  },
  {
   "cell_type": "code",
   "execution_count": 5,
   "metadata": {},
   "outputs": [
    {
     "name": "stdout",
     "output_type": "stream",
     "text": [
      "Baseline MAE: 801538.732415\n",
      "Baseline MSE: 4.73061814968e+13\n",
      "Baseline median error: 165000.0\n",
      "Baseline mslog error: 0.590847155041\n",
      "Baseline variance score: 0.0\n",
      "Baseline r^2 score: -0.0094364505542\n"
     ]
    }
   ],
   "source": [
    "#unique, counts = np.unique(x['borough'], return_counts=True)\n",
    "#dict(zip(unique, counts))\n",
    "baseline = np.zeros(raw_df['price'].shape) + np.median(raw_df['price'])\n",
    "print(\"Baseline MAE: {}\".format(mean_absolute_error(raw_df['price'],baseline)))\n",
    "print(\"Baseline MSE: {}\".format(mean_squared_error(raw_df['price'],baseline)))\n",
    "print(\"Baseline median error: {}\".format(median_absolute_error(raw_df['price'],baseline)))\n",
    "print(\"Baseline mslog error: {}\".format(mean_squared_log_error(raw_df['price'],baseline)))\n",
    "print(\"Baseline variance score: {}\".format(explained_variance_score(raw_df['price'],baseline)))\n",
    "print(\"Baseline r^2 score: {}\".format(r2_score(raw_df['price'],baseline)))"
   ]
  },
  {
   "cell_type": "code",
   "execution_count": 6,
   "metadata": {},
   "outputs": [
    {
     "name": "stdout",
     "output_type": "stream",
     "text": [
      "MAE: 150006.694096\n",
      "MSE: 4.06399655995e+12\n",
      "median error: 16854.375\n",
      "mslog error: 0.0424527638215\n",
      "variance score: 0.940824011862\n",
      "r^2 score: 0.940818497124\n",
      "CPU times: user 8min 3s, sys: 3.03 s, total: 8min 6s\n",
      "Wall time: 8min 25s\n"
     ]
    }
   ],
   "source": [
    "%%time\n",
    "train_x_PCA, test_x_PCA, train_y_PCA, test_y_PCA = train_test_split(X_reduced,df.values[:,32],test_size=.33)\n",
    "forest = RandomForestRegressor(128)\n",
    "forest.fit(train_x_PCA,train_y_PCA)\n",
    "yhat = forest.predict(test_x_PCA)\n",
    "print(\"MAE: {}\".format(mean_absolute_error(test_y_PCA,yhat)))\n",
    "print(\"MSE: {}\".format(mean_squared_error(test_y_PCA,yhat)))\n",
    "print(\"median error: {}\".format(median_absolute_error(test_y_PCA,yhat)))\n",
    "print(\"mslog error: {}\".format(mean_squared_log_error(test_y_PCA,yhat)))\n",
    "print(\"variance score: {}\".format(explained_variance_score(test_y_PCA,yhat)))\n",
    "print(\"r^2 score: {}\".format(r2_score(test_y_PCA,yhat)))"
   ]
  },
  {
   "cell_type": "code",
   "execution_count": 7,
   "metadata": {},
   "outputs": [
    {
     "name": "stdout",
     "output_type": "stream",
     "text": [
      "GROSS SQUARE FEET: 0.640664254056\n",
      "LAND SQUARE FEET: -0.569736359711\n",
      "poi type 5: -0.266783176349\n",
      "poi type 12: 0.249752914261\n",
      "poi type 10: 0.201222598219\n",
      "poi type 4: -0.139391368752\n",
      "# of bus_stop: 0.125349039019\n",
      "poi type 2: -0.0999304893786\n",
      "YEAR BUILT: 0.0926460840176\n",
      "poi type 7: -0.0814568664299\n",
      "poi type 8: 0.0746096139308\n",
      "poi type 6: 0.0670596295698\n",
      "# of subway_station: 0.0646194655613\n",
      "poi type 9: 0.0594430148531\n",
      "poi type 3: -0.0581930530786\n",
      "total # of poi: -0.0560446871259\n",
      "poi type 13: -0.0528945797027\n",
      "poi type 11: -0.0446780201298\n",
      "poi type 1: -0.0264921884647\n",
      "# of MISDEMEANOR: 0.0180317032766\n",
      "commercial: 0.0130846273457\n",
      "mixed: -0.0130694348234\n",
      "# of VIOLATION: -0.00749211327401\n",
      "residencial: -0.00444977244461\n",
      "# of FELONY: 0.00422044400533\n",
      "# of roads: -0.00237615619717\n"
     ]
    }
   ],
   "source": [
    "indices = np.array(np.argsort(abs(np.array(pca.components_[10]))))\n",
    "for l,i in list(zip(np.array(labels)[indices],np.array(pca.components_[10])[indices]))[::-1]:\n",
    "\tprint(\"{}: {}\".format(l,i))"
   ]
  },
  {
   "cell_type": "code",
   "execution_count": 8,
   "metadata": {},
   "outputs": [
    {
     "data": {
      "text/plain": [
       "['10: 0.43',\n",
       " '15: 0.16',\n",
       " '1: 0.09',\n",
       " '17: 0.06',\n",
       " '0: 0.05',\n",
       " '4: 0.04',\n",
       " '3: 0.02',\n",
       " '8: 0.02',\n",
       " '9: 0.02',\n",
       " '11: 0.02',\n",
       " '2: 0.01',\n",
       " '5: 0.01',\n",
       " '6: 0.01',\n",
       " '7: 0.01',\n",
       " '12: 0.01',\n",
       " '13: 0.01',\n",
       " '14: 0.01',\n",
       " '16: 0.01',\n",
       " '18: 0.01']"
      ]
     },
     "execution_count": 8,
     "metadata": {},
     "output_type": "execute_result"
    }
   ],
   "source": [
    "# Get numerical feature importances\n",
    "importances = list(forest.feature_importances_)\n",
    "feature_importances = [(feature, round(importance, 2)) for feature, importance in zip(list(train_x_PCA.columns), importances)]\n",
    "# Sort the feature importances by most important first\n",
    "feature_importances = sorted(feature_importances, key = lambda train_x_PCA: train_x_PCA[1], reverse = True)\n",
    "# Print out the feature and importances\n",
    "#print(feature_importances)\n",
    "[\"{}: {}\".format(*pair) for pair in feature_importances]"
   ]
  },
  {
   "cell_type": "code",
   "execution_count": 9,
   "metadata": {},
   "outputs": [
    {
     "data": {
      "image/png": "[encoded data removed]",
      "text/plain": [
       "<matplotlib.figure.Figure at 0x7f160a806210>"
      ]
     },
     "metadata": {},
     "output_type": "display_data"
    }
   ],
   "source": [
    "%matplotlib inline\n",
    "# Set the style\n",
    "plt.style.use('fivethirtyeight')\n",
    "# list of x locations for plotting\n",
    "x_values = list(range(len(importances)))\n",
    "# Make a bar chart\n",
    "plt.bar(x_values, importances, orientation = 'vertical')\n",
    "# Tick labels for x axis\n",
    "plt.xticks(x_values, list(train_x_PCA.columns), rotation='vertical')\n",
    "# Axis labels and title\n",
    "plt.ylabel('Importance'); plt.xlabel('Variable'); plt.title('Variable Importances');"
   ]
  },
  {
   "cell_type": "code",
   "execution_count": 10,
   "metadata": {
    "scrolled": false
   },
   "outputs": [
    {
     "name": "stdout",
     "output_type": "stream",
     "text": [
      "CPU times: user 2.03 s, sys: 109 ms, total: 2.14 s\n",
      "Wall time: 2.38 s\n"
     ]
    }
   ],
   "source": [
    "%%time\n",
    "## Import tools needed for visualization\n",
    "from sklearn.tree import export_graphviz\n",
    "import pydot\n",
    "# Pull out one tree from the forest\n",
    "#tree = forest.estimators_[5]\n",
    "# Export the image to a dot file\n",
    "#export_graphviz(tree, out_file = 'tree.dot', feature_names = list(train_x.columns), rounded = True, precision = 1)\n",
    "# Use dot file to create a graph\n",
    "#(graph, ) = pydot.graph_from_dot_file('tree.dot')\n",
    "# Write graph to a png file //DO NOT DO THIS HOLY CRAP\n",
    "#graph.write_png('tree.png')\n",
    "# Limit depth of tree to 3 levels\n",
    "rf_small = RandomForestRegressor(n_estimators=10, max_depth = 3)\n",
    "rf_small.fit(train_x, train_y)\n",
    "# Extract the small tree\n",
    "tree_small = rf_small.estimators_[5]"
   ]
  },
  {
   "cell_type": "code",
   "execution_count": 11,
   "metadata": {},
   "outputs": [
    {
     "name": "stdout",
     "output_type": "stream",
     "text": [
      "CPU times: user 594 ms, sys: 344 ms, total: 938 ms\n",
      "Wall time: 2.87 s\n"
     ]
    }
   ],
   "source": [
    "%%time\n",
    "# Save the tree as a png image\n",
    "export_graphviz(tree_small, out_file = 'small_tree.dot', feature_names = list(train_x.columns), rounded = True, precision = 1)\n",
    "(graph, ) = pydot.graph_from_dot_file('small_tree.dot')\n",
    "graph.write_png('small_tree.png');"
   ]
  }
 ],
 "metadata": {
  "kernelspec": {
   "display_name": "Python 2",
   "language": "python",
   "name": "python2"
  },
  "language_info": {
   "codemirror_mode": {
    "name": "ipython",
    "version": 2
   },
   "file_extension": ".py",
   "mimetype": "text/x-python",
   "name": "python",
   "nbconvert_exporter": "python",
   "pygments_lexer": "ipython2",
   "version": "2.7.14"
  }
 },
 "nbformat": 4,
 "nbformat_minor": 2
}
